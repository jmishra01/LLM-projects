{
 "cells": [
  {
   "cell_type": "markdown",
   "id": "ab3f4ebe-282f-4de5-88ef-0a23b1610550",
   "metadata": {},
   "source": [
    "# Import important packages"
   ]
  },
  {
   "cell_type": "code",
   "execution_count": 16,
   "id": "39680f67-4ea8-4c93-8462-3b0ac5044641",
   "metadata": {},
   "outputs": [],
   "source": [
    "# %load rag.py\n",
    "from IPython.display import Markdown, display\n",
    "\n",
    "from operator import itemgetter\n",
    "\n",
    "from langchain_community.llms.ollama import Ollama\n",
    "from langchain_community.embeddings import OllamaEmbeddings\n",
    "from langchain_core.output_parsers import StrOutputParser\n",
    "\n",
    "from langchain.text_splitter import CharacterTextSplitter\n",
    "\n",
    "from langchain_community.document_loaders import PyPDFLoader\n",
    "from langchain.prompts import PromptTemplate"
   ]
  },
  {
   "cell_type": "code",
   "execution_count": 3,
   "id": "2bd01b06-2840-4f40-b647-ffcb6b801334",
   "metadata": {},
   "outputs": [],
   "source": [
    "# Model\n",
    "MODEL = \"llama2\""
   ]
  },
  {
   "cell_type": "code",
   "execution_count": 4,
   "id": "28c4a09a-171b-4dd8-9852-f7cbf634dc2d",
   "metadata": {},
   "outputs": [],
   "source": [
    "chain = Ollama(model=MODEL) | StrOutputParser()\n",
    "embeddings = OllamaEmbeddings()"
   ]
  },
  {
   "cell_type": "markdown",
   "id": "e5215e6c-48cd-4c6e-ac21-f244a6d5cbf0",
   "metadata": {},
   "source": [
    "## Load PDF File"
   ]
  },
  {
   "cell_type": "code",
   "execution_count": 5,
   "id": "501834e2-355d-4900-a8f6-2cbd8dcbeea6",
   "metadata": {},
   "outputs": [],
   "source": [
    "# Load PDF file\n",
    "filename = \"Docker Deep Drive.pdf\"\n",
    "loader = PyPDFLoader(filename)\n",
    "pages = loader.load_and_split()"
   ]
  },
  {
   "cell_type": "code",
   "execution_count": 17,
   "id": "2dd34177-0f5a-4505-b85e-8f56b6e3803c",
   "metadata": {},
   "outputs": [],
   "source": [
    "text_splitter = CharacterTextSplitter(chunk_size=1000, chunk_overlap=0)\n",
    "documents = text_splitter.split_documents(loader.load())"
   ]
  },
  {
   "cell_type": "code",
   "execution_count": 6,
   "id": "b55835e6-1847-470a-bd19-00a8ed6ab552",
   "metadata": {},
   "outputs": [],
   "source": [
    "template = \"\"\"\n",
    "    Answer the question based on the context below.\n",
    "    If you can't answer the question, reply \"I don't know.\"\n",
    "\n",
    "    Context: {context}\n",
    "\n",
    "    Question: {question}\n",
    "    \"\"\""
   ]
  },
  {
   "cell_type": "code",
   "execution_count": 7,
   "id": "1b6faace-8bed-43e9-ac67-4d80cd1f4a7a",
   "metadata": {},
   "outputs": [],
   "source": [
    "prompt = PromptTemplate.from_template(template)"
   ]
  },
  {
   "cell_type": "code",
   "execution_count": 8,
   "id": "71e1d255-113d-43b7-bd46-747db202161e",
   "metadata": {},
   "outputs": [],
   "source": [
    "chain = prompt | chain"
   ]
  },
  {
   "cell_type": "code",
   "execution_count": 9,
   "id": "79b09add-5e91-4188-b684-5accac8b9bba",
   "metadata": {},
   "outputs": [
    {
     "name": "stdout",
     "output_type": "stream",
     "text": [
      "\n",
      "Hello Jitendra! Your name is Jitendra.\n"
     ]
    }
   ],
   "source": [
    "print(chain.invoke(\n",
    "    {\n",
    "        \"context\": \"The name I was given was Jitendra\",\n",
    "        \"question\": \"What's my name?\"\n",
    "    }\n",
    "))"
   ]
  },
  {
   "cell_type": "markdown",
   "id": "8ebf10e6-ba85-4425-99a3-d8c4073cbacc",
   "metadata": {},
   "source": [
    "# VectorDB"
   ]
  },
  {
   "cell_type": "markdown",
   "id": "6b632fd2-60b2-40b6-b009-ec183a43bd8d",
   "metadata": {},
   "source": [
    "## DocArray"
   ]
  },
  {
   "cell_type": "code",
   "execution_count": null,
   "id": "85e85500-8f44-45c8-afdb-1fb2a624432a",
   "metadata": {},
   "outputs": [],
   "source": [
    "from langchain_community.vectorstores import DocArrayInMemorySearch"
   ]
  },
  {
   "cell_type": "code",
   "execution_count": null,
   "id": "e4eda58d-f5c1-4ac4-82ae-f0a40abd81cb",
   "metadata": {},
   "outputs": [],
   "source": [
    "vectorstores = DocArrayInMemorySearch.from_documents(pages, embedding=embeddings)\n",
    "\n",
    "retriever = vectorstores.as_retriever()"
   ]
  },
  {
   "cell_type": "markdown",
   "id": "8bb53e7a-39c5-4396-9d35-c895d7953270",
   "metadata": {},
   "source": [
    "## FAISS"
   ]
  },
  {
   "cell_type": "code",
   "execution_count": null,
   "id": "608ec920-1e14-45cf-bc63-25985f893fa1",
   "metadata": {},
   "outputs": [],
   "source": [
    "from langchain_community.vectorstores import FAISS"
   ]
  },
  {
   "cell_type": "code",
   "execution_count": null,
   "id": "5b084d7b-3902-473f-9b4d-057fe79df072",
   "metadata": {},
   "outputs": [],
   "source": [
    "text_splitter = CharacterTextSplitter(chunk_size=1000, chunk_overlap=0)\n",
    "texts = text_splitter.split_documents(loader.load())"
   ]
  },
  {
   "cell_type": "code",
   "execution_count": null,
   "id": "a6c03b90-5060-449b-8f90-1df40e411db0",
   "metadata": {},
   "outputs": [],
   "source": [
    "faiss_db = FAISS.from_documents(texts, embedding=embeddings)\n",
    "\n",
    "retriever = faiss_db.as_retriever()"
   ]
  },
  {
   "cell_type": "markdown",
   "id": "f5188298-52e7-44c4-8d87-60bab51b022e",
   "metadata": {},
   "source": [
    "## ChromDB"
   ]
  },
  {
   "cell_type": "code",
   "execution_count": 10,
   "id": "d19662c5-e976-4b9c-a586-e9c8e043d821",
   "metadata": {},
   "outputs": [],
   "source": [
    "from langchain_chroma import Chroma"
   ]
  },
  {
   "cell_type": "code",
   "execution_count": 11,
   "id": "ffeec0da-d116-4f4d-8b6c-051009173fe2",
   "metadata": {},
   "outputs": [],
   "source": [
    "vector_store = Chroma(\n",
    "    collection_name=\"example_collection\",\n",
    "    embedding_function=embeddings,\n",
    "    persist_directory=\"./chroma_langchain_db\", \n",
    ")"
   ]
  },
  {
   "cell_type": "code",
   "execution_count": 12,
   "id": "c9b533bf-d96b-45c8-af7a-04fef8881c6d",
   "metadata": {},
   "outputs": [],
   "source": [
    "from uuid import uuid4"
   ]
  },
  {
   "cell_type": "code",
   "execution_count": 19,
   "id": "22f395dd-86e0-4d7c-a7ae-e76cfa5f743e",
   "metadata": {},
   "outputs": [],
   "source": [
    "uuids = [str(uuid4()) for _ in range(len(documents))]"
   ]
  },
  {
   "cell_type": "code",
   "execution_count": 20,
   "id": "e5e66ea5-e539-48b0-b9e0-85d7606619ba",
   "metadata": {
    "scrolled": true
   },
   "outputs": [
    {
     "data": {
      "text/plain": [
       "['c55b30c0-4685-43c3-a07f-eafb39fe6a00',\n",
       " 'c18a2871-bb12-49e7-bdda-ea6385230866',\n",
       " '44bde7fc-4733-4c71-8cd2-a30987376179',\n",
       " 'd9b01382-fbec-454d-8179-be45ad135969',\n",
       " 'e6a9bb43-61e2-4d9f-9550-9d91496a6b31',\n",
       " '7f270b43-29f0-4ad4-bd0c-51d9e8d7cde6',\n",
       " '4cb43a66-83b5-4d2d-89d6-747353bb2bf6',\n",
       " 'cddb1a3e-4216-4473-99ff-cea50afd2d0b',\n",
       " '25930199-bb56-45a3-b5e5-b914986a09d4',\n",
       " 'ad6fb8a4-9e4d-4d5b-a990-ecd589db32c9',\n",
       " '6985deb2-72d7-42a7-abf3-4569505930c3',\n",
       " '5e6770cb-ccb3-4e82-9767-660ab512ddb6',\n",
       " '6386fc45-635e-429a-a9d4-16a4bf313869',\n",
       " 'ee2deffb-9c0e-47d3-a397-60510e633924',\n",
       " 'be77cf07-8661-4625-a6f7-2e2e75e240cd',\n",
       " '9daa8623-70ea-488c-b80d-554460933b24',\n",
       " '8f84e4ed-64dc-496c-9fb4-a58fb96140cb',\n",
       " '4ed30386-9bb8-4339-a17b-7bd51c6d4365',\n",
       " '8274bd8d-81fb-422b-9f95-f4091c4e3c42',\n",
       " '201c4bf7-520b-4161-9833-bc0d07714842',\n",
       " '93e10761-2fdf-463d-b6c2-344881184ddb',\n",
       " 'd781537e-a90e-4658-a57d-00f1258719be',\n",
       " '600211fc-1487-47cf-872f-a6123e07da7f',\n",
       " '6ae8bf93-6634-4eae-87c0-d32c5253d34d',\n",
       " 'be211158-5d93-48c8-882b-89096df6d273',\n",
       " '104e2fe5-6718-4da2-bb01-032a23b27172',\n",
       " 'a206fd57-18ac-4142-b829-c42a50cdb8c2',\n",
       " 'b1939e38-4c35-4af3-8e49-cb0ef690c5fd',\n",
       " 'db004861-5777-4580-b94e-a5a42636cea4',\n",
       " 'f110db3a-960c-4666-9d78-8ae2cc740ba8',\n",
       " '45f864ff-d3c4-4691-b5e1-e97f76113618',\n",
       " '4bf7bd13-9ba8-4ea0-ac78-4edba95ff7b3',\n",
       " '392427ee-c364-492c-b883-9413760f7640',\n",
       " '04f2341d-28bd-4a51-9278-ed7e0c70371f',\n",
       " '6009cd4b-0f33-463d-aef4-cf67cc416274',\n",
       " 'f452c004-423c-4062-81db-099144125630',\n",
       " 'cc714bc2-ae03-4a2d-8374-d4d0fd0c08ee',\n",
       " '1df38729-ea35-472a-ab38-c00f1bc11bf6',\n",
       " 'b0d0b453-17cb-4b87-a184-3fe56d4dcf3d',\n",
       " 'f3a76543-3738-466e-b708-972b76d605f1',\n",
       " '3595a0a1-1240-4d04-ac40-d561eb40d4a6',\n",
       " 'd1e5c838-9495-49e2-891a-a7f673fd7f0c',\n",
       " '55de928e-0d2e-4517-b5c3-530c8d1c5f2b',\n",
       " 'b31ab877-56f5-4006-9cff-ffee16a25878',\n",
       " '480c089c-62ca-4dcb-8d6a-4852c87cbf0d',\n",
       " '254838b7-fc56-48d5-8a9e-269d97929b4a',\n",
       " '72ab7c32-b39f-4723-8b47-4c03d3099728',\n",
       " '82b27f05-a540-4285-b814-cf693952d091',\n",
       " 'f9c2a253-acfb-4e09-a2cb-90abf8b1de58',\n",
       " 'f55616cb-0481-406d-b82c-4483c15ea6dc',\n",
       " '9059e6c2-63fe-43fd-b172-e41d2e6f7969',\n",
       " '10c5287c-02a8-4f72-af60-f070cecd19a3',\n",
       " '05222d43-f24d-40d6-b8bb-9140df9cfa4a',\n",
       " '2287d2b4-1651-4026-80a2-40a80793a176',\n",
       " '990b3cb5-267e-4391-8c87-33386848d0fc',\n",
       " '725dfeab-d6c5-483c-a3ca-e089c3602488',\n",
       " 'a7f72889-4db2-48f1-9413-014543c27563',\n",
       " '1c53ac85-ef26-4b9e-8c10-32a0c53a7b1a',\n",
       " '1c930d97-0196-4fac-9183-debc0164f44e',\n",
       " 'd28c9181-7113-464e-84e7-3d670bd72b20',\n",
       " '59dbc9ca-9dcc-4de9-a09c-894dbe8349ad',\n",
       " '1658fffe-c954-4806-a727-814db8012b7d',\n",
       " 'ba186fa2-f883-4c8d-a27f-0fce45f940e1',\n",
       " 'd266bcf6-ddca-4fad-a5e8-7f5d6ee0c8d8',\n",
       " '330cf7a7-d3f1-47cf-9776-45ce8ad367a4',\n",
       " 'eeceb7f6-b2e1-498f-bc1b-49f802078e28',\n",
       " '59bd7044-fa63-4b54-8c41-8e8bb50b1333',\n",
       " 'd4a7812f-8d2c-49fd-a69d-89fc1d02815c',\n",
       " 'a7564136-1b44-4b78-9a67-42a6068d62b9',\n",
       " '63949851-c182-4a07-87c1-6b67c31252e8',\n",
       " 'f65d7af9-6cd0-486c-993f-51d6d33ddd80',\n",
       " '74b88645-dff9-4228-94a4-1fbe90519f53',\n",
       " '527716aa-f97b-4652-b54c-8679fa6b7fa8',\n",
       " '090e41bc-7d4d-466d-93e8-b3e39455f9a2',\n",
       " 'cd489d6f-4400-400f-9cfa-e4798a00041a',\n",
       " 'c075d0ca-fa56-4bc0-85ae-d0b59fff4808',\n",
       " '037c08ab-ea95-4f05-b5c7-789d0b8d56b1',\n",
       " '6d33a684-cec1-45ce-90bb-a64758e851c2',\n",
       " '31182454-c261-4365-bba4-4a8d376c8139',\n",
       " '34e43db8-bc0f-4683-a3cd-1cea911c9c0c',\n",
       " '7afc536f-b78a-4f4f-b1fe-5ec8ad9e6caf',\n",
       " '8ee37aa0-0586-441f-b2f3-2f56846df313',\n",
       " '5d495e1b-2a3b-4993-8cd4-d3ab5db683ef',\n",
       " '94e3e58a-9086-4f58-b568-4466220355cb',\n",
       " '540bf048-9ead-4ac7-b518-33185b9bafe5',\n",
       " 'e61cb347-6e20-48b5-b011-8f28126227a0',\n",
       " '4e5c1c15-3aeb-4c7b-a834-1febaa5d308e',\n",
       " '71872d39-1afb-4fd2-bedd-54715f8190de',\n",
       " 'c0105e96-14c8-44d4-9dc0-c8f899347f75',\n",
       " '2ac00874-d700-43c8-baf2-79ca60555118',\n",
       " 'c825ac1d-1689-4119-bf54-f914870926d3',\n",
       " '547ef1f4-854a-4a15-97ef-274879b66d25',\n",
       " '24e3a839-3af4-4ad3-8910-eec0d5ee557a',\n",
       " '84575690-cee4-4809-8eed-e6f49c60ac3a',\n",
       " 'bc0a663c-1958-447b-94b5-1d9b7410d167',\n",
       " 'ef485579-e90a-4b00-8f35-cfaba2324f92',\n",
       " '37f2f998-5863-48f9-b794-18d018c07c4e',\n",
       " '2a6d5bee-a480-486e-9155-7cc0377bccb7',\n",
       " '7b18d0e2-4c63-4d90-abc2-e388b77ac480',\n",
       " '52d232c2-8f41-426d-8baa-b44e864aea55',\n",
       " 'd9c1a075-40d5-41d9-8f81-9c02f0589602',\n",
       " '0e15700d-a2aa-41eb-955a-41e83d993529',\n",
       " '522bcb87-e9da-4508-b12f-fc459f2acd43',\n",
       " '830ea81f-7b28-4684-b17f-d2f59af6cb01',\n",
       " 'de636bf1-8e9c-46d4-8e56-177cee33964c',\n",
       " '1ee7666d-a75f-44bd-8d00-33fd4e2c07d0',\n",
       " 'a75eb7a6-840f-45b9-96b4-3ce5ef8684e9',\n",
       " 'fc90c2a0-bf37-48a3-83cd-492b38feb266',\n",
       " '54233018-3100-4468-a5cb-4d1dc2fb7343',\n",
       " '8f17fc4b-5abe-4d56-9dd8-9d01b48be86f',\n",
       " 'b7f384bd-82d7-43a0-a608-cbf35ba63bd8',\n",
       " '2143e3a9-1a41-4adf-afa3-b336a03f14e4',\n",
       " '2ae52916-fc9b-434b-85bf-4808db96ba00',\n",
       " 'f0eac459-7542-4b17-86d5-574b70710368',\n",
       " 'fcbea7ac-6892-485a-8cf6-c1e8ae1bba98',\n",
       " '89426356-65af-4ffd-9d59-9bf3ab3fc962',\n",
       " '3054f6e3-3f90-40da-b39e-7a783131d2f7',\n",
       " 'c23da82c-8acf-4d7c-896b-9e09b2dde6a4',\n",
       " 'a33b6d45-651c-4f79-9e6f-0ccb2a09c3e7',\n",
       " 'd4c92632-7b16-4fa9-808e-143caed6e835',\n",
       " 'af337530-7f80-4358-813c-b5058c131f59',\n",
       " 'c9df5a7d-5729-4c2f-badc-50a4426c265d',\n",
       " 'd53026cf-6792-4094-a20b-d9708beb30a6',\n",
       " '4dbbc904-695b-462f-a53e-b1b2b8fd24de',\n",
       " '8ec8fe60-1d7c-4242-a412-1599a07f2ac4',\n",
       " 'b176827f-6890-4c77-b5d4-a8a2be10afa0',\n",
       " '68dc6b00-25c9-4fd8-be36-d72d18274967',\n",
       " '17bdf213-2ec4-4b20-8c6a-f4f1c02879c8',\n",
       " '52baaf85-095e-4a14-911c-7876d024c398',\n",
       " '3ec58a4c-b87a-4df9-a147-e0ec793777c9',\n",
       " '30f03b0e-fa7b-45d9-a10c-a2ebf98256ef',\n",
       " '0c169c9f-3f19-442c-85d8-40e3a644fe64',\n",
       " '01066af5-f62f-4f0b-827c-487b0d8bac45',\n",
       " '3af48781-a97a-4831-908e-ce79beed2640',\n",
       " '520cec23-73ca-4c62-b408-7d07b0fdcfcf',\n",
       " 'a30ff8d0-bff3-49c3-8fda-b2e048c55e35',\n",
       " 'bba2ec25-3ef3-423a-804e-15b2d19a254f',\n",
       " 'c8c33413-815e-451a-987b-d181f944c5c8',\n",
       " 'aba222d8-d7a3-4ea3-a772-60c5acb0d35f',\n",
       " 'a4433797-c0bf-4fea-bbf8-67e8526c47f2',\n",
       " '2ed3a7e7-7b3f-45f0-9bb6-d6be018f71da',\n",
       " '30e0f48c-4394-4cd0-a3bc-6c62f22b00f7',\n",
       " '6cd6f1cd-819b-4e2e-b128-22a49b0e77eb',\n",
       " '7b1ebd2d-f762-4eb2-ab81-65cdc42223bf',\n",
       " '49f6dc36-4e22-4ad2-8f51-070c168d8108',\n",
       " '696ed5c4-f263-41f6-9775-11c5bf89778b',\n",
       " '2a94b974-c997-411f-96af-2c54ad9a9167',\n",
       " 'a273f87a-8368-4e4a-b7cf-fd9bef307205',\n",
       " 'cc78b3bc-953d-44e4-b9dd-0a82019d2987',\n",
       " '9f4304ff-169d-4b7d-82ab-95243fa74fce',\n",
       " '8b3cc05b-2429-4d96-b984-4369793c69a5',\n",
       " '7d230166-67fb-4adf-8659-9e272ef58e91',\n",
       " 'abec7910-1c86-445a-844b-8a31665ca724',\n",
       " 'edc58402-1895-4bd2-9a39-42aabcbd7953',\n",
       " '2f0c5238-0974-409b-a9f6-445b136be1b2',\n",
       " '057c889a-13a4-4678-9286-511f89669297',\n",
       " '5a391319-f3f3-4c0d-9ca8-fa01a1a60342',\n",
       " '18c5c3e0-0b7a-4ab1-bffc-c1f864caacb0',\n",
       " '9078f7f7-486b-494e-812e-9b8a3dad2006',\n",
       " '4cfd989f-4b30-4a6d-954b-904267355636',\n",
       " '31b6796d-454c-43c7-bfa5-c962d726b18a',\n",
       " '9c5ac0ef-1498-4a42-83df-52d7ea2ae91c',\n",
       " '61dbe3a3-aa60-4a35-9ae8-5bcd95705c86',\n",
       " '3aa344b9-48fa-487e-9493-2d8f93800149',\n",
       " '9264f7df-b9bf-480a-8fd3-e1c4724aa8cb',\n",
       " 'd173d975-0665-43fd-a32a-bc46b23d7a15',\n",
       " 'db710dc8-1999-4ae2-923e-caaaf4300f46',\n",
       " 'cf37238d-4cc2-460d-a393-e29d1a942f27',\n",
       " '8286489a-387a-4851-b9f0-8f658eea2531',\n",
       " '470dee51-99fa-43cb-b7f1-5d7da265036e',\n",
       " '480a0420-a718-4df7-9d5e-58f10baf3cf6',\n",
       " '9a8f1d1a-1514-467f-a400-ea9dfdef2347',\n",
       " '64f4453c-b96d-42ec-a07d-daf6f7acbb18',\n",
       " '3808d300-c2e3-465c-9eb0-197c6c85444a',\n",
       " 'c8e23e43-58cf-430d-a25a-aca5f70da3e5',\n",
       " '10cc421f-0995-4cb4-bd5d-76935c4777e0',\n",
       " 'cdb063e9-bd9c-4728-b0bf-8e671c323c22',\n",
       " '9d233bc2-afff-40c9-aa81-c4f43f4cda0c',\n",
       " '51347431-c7f5-4731-970f-0ba489c3afd9',\n",
       " '51ede723-9e2e-4551-8631-3c26aba0ff01',\n",
       " '93207630-e4aa-4e29-9740-2cf8691c3085',\n",
       " '8bcf7673-ed43-4c03-aee3-3f79038581f1',\n",
       " 'e94a6535-c59e-43a8-8fdc-57d437ca3265',\n",
       " 'de0f4e52-ebc5-49e1-b3c5-8056b7149ca8',\n",
       " '215a7051-eb8a-4f47-9998-ca841dee85f7',\n",
       " '25b64316-5bd8-4a05-808a-3a713be29acc',\n",
       " 'f5c5d8c6-78c0-443b-85c0-c358fa0821a0',\n",
       " '24c1e9de-2cf6-43ff-80e2-dafcf39f1180',\n",
       " '6e03c7cd-d338-4466-a301-223e72beb204',\n",
       " 'ebac5dd2-d359-4dcd-99ea-2c31896ffad4',\n",
       " '3e9f0b8f-26e1-421e-873d-322120eb0041',\n",
       " '714bd105-42ad-405a-844c-2214e06d539d',\n",
       " '56683f11-552e-48ee-8230-25f1a6a91f4d',\n",
       " '9390f791-64cb-46b6-ac2e-dcf063e8e4cc',\n",
       " '43a7456e-38ed-40b0-8afa-1af156b6e1eb',\n",
       " 'dafa7a62-2c4a-4985-8063-bda528b501fc',\n",
       " '952b3c05-2b9d-4387-8f66-96781e3dc6cd',\n",
       " '12f7d57d-2350-4d44-a2fe-2eb6c5fe483d',\n",
       " '1fee91ab-a688-46ec-9166-162a734a69ae',\n",
       " 'b34621d0-aa88-4088-9ce7-60c7c5613b99',\n",
       " '1964213d-6b70-4126-82a1-69fca03b50f2',\n",
       " 'bf216455-00fa-43bc-9189-6195076e0606',\n",
       " 'b1b8b6d5-b1bf-4bf0-8932-d240681c6567',\n",
       " 'e011e6c3-907c-47a0-8a66-1ed7ff595990',\n",
       " '9ec39d48-c6fc-48ab-b608-c5495e23a1c3',\n",
       " '5997889e-caaa-4025-ac7f-f577951b853c',\n",
       " '19579d49-2cd8-4187-9c11-3d3bead7ef94',\n",
       " '9003b21b-d631-4a19-acff-b80c120b27de',\n",
       " 'c8a21755-97bc-4cc3-93e5-9243b0aa1af9',\n",
       " 'dedfe965-b98b-42bd-b65f-f3aa76164763',\n",
       " 'c9954194-32ec-4e1e-90e1-51a8981e7b1a',\n",
       " '73827843-759c-402f-9700-2aea0d283655',\n",
       " '142f3e83-0670-4cc9-95a9-6f4fb9e38c89',\n",
       " '4e1fd3d1-3556-4b08-ad6c-fdf9a787c784',\n",
       " 'ed7f7d36-9df6-4e8f-b04f-e968e2e99090',\n",
       " '31857fb9-1200-417f-b4ec-6a0e70824b3f',\n",
       " 'c222afd6-1e93-41ba-9788-e9f3a2f1bd2e',\n",
       " 'b57ad650-e5ba-44fd-b488-648920426c65',\n",
       " '7b3c5e2c-51d2-4960-8606-1f465a280f63',\n",
       " '99baf51a-0d3b-4623-911a-a2d17a8a8d4a',\n",
       " '37624809-adb4-48fe-a988-21f31c8c1b4f',\n",
       " '0d554f82-0e50-4e5e-9cab-3acdd211ca0c',\n",
       " '923c19fb-b8bf-47cf-9c04-83b2b4e64d0c',\n",
       " 'b699fe64-6546-4aa2-81b1-ae4b5d2425b4',\n",
       " 'a59498d6-afb3-4ae3-8b12-c7adcf576fa8',\n",
       " '4defb953-0e8d-495f-96bf-c1cbb25beeb4',\n",
       " '0a7ab265-fff3-48c1-9f13-d40826824df3',\n",
       " 'e54047d5-23c1-4b7e-a001-b60185e20a53',\n",
       " '17e6be07-d348-4719-97c9-20c8898ec0b4',\n",
       " '3a086836-520c-413c-8894-e149c3f10314',\n",
       " '9e05b5e2-b99d-42be-bc5b-53c893f5a693',\n",
       " 'd92989f5-377f-4e1e-900c-44302a40da7b',\n",
       " '1605a892-8974-4896-8ae6-e60bcb51ece1',\n",
       " '0aab732e-c559-48bc-a0d7-73b86a8df617',\n",
       " '06e2fda3-677c-409c-b9f7-a657468898ea',\n",
       " '667a703c-47f9-40f1-9d93-be140fd29e0f',\n",
       " 'fbbea970-1211-43c8-83d7-b34350e53406',\n",
       " 'b4d0738b-f698-449d-b990-16f4bc23354c',\n",
       " '3a01a681-76c8-4496-abbd-87eb4919c1b5',\n",
       " '98d0fc16-69ce-4333-82b3-ef933723078c',\n",
       " 'b9822f8a-0f62-42a5-b724-6e9d2b86cdd3',\n",
       " '8689decd-c05c-4f76-a991-71bbb82ff34f',\n",
       " 'd800b260-5976-4553-b4aa-4052ad4c1824',\n",
       " '908a1212-a12b-45aa-ab80-75fbb20bed56',\n",
       " 'afa59c1b-0c52-405c-9c1f-45ac7bd23930',\n",
       " '02031826-6b15-4dbb-89e9-1093befa0f98',\n",
       " '64dac1ef-964f-4631-b6e6-ca55229ee90f',\n",
       " '199e77ab-4a70-47ac-8168-c42c7e4b8dee']"
      ]
     },
     "execution_count": 20,
     "metadata": {},
     "output_type": "execute_result"
    }
   ],
   "source": [
    "vector_store.add_documents(documents=documents,ids=uuids)"
   ]
  },
  {
   "cell_type": "code",
   "execution_count": 21,
   "id": "f0805436-0fa6-4632-9a2b-9ebcf081f1eb",
   "metadata": {},
   "outputs": [],
   "source": [
    "retriever = vector_store.as_retriever()"
   ]
  },
  {
   "cell_type": "code",
   "execution_count": null,
   "id": "f12ecfd3-07a1-43bc-84a8-49c6ea5aeb7a",
   "metadata": {},
   "outputs": [],
   "source": []
  },
  {
   "cell_type": "markdown",
   "id": "362b5b9f-4d76-4982-8ceb-990917efcdb9",
   "metadata": {},
   "source": [
    "## Combine Model chain with Retriever VectorDB"
   ]
  },
  {
   "cell_type": "code",
   "execution_count": 22,
   "id": "4c6704ea-650d-4e67-b4a7-ebff95a24af9",
   "metadata": {},
   "outputs": [
    {
     "data": {
      "text/markdown": [
       "The answer to your question can be found in the document under the section \"Networking in Docker\":\n",
       "\n",
       "\"Docker provides two networking models: host mode and container mode.\"\n",
       "\n",
       "So, there are two types of networking possible in Docker:\n",
       "\n",
       "1. Host mode: In this mode, the container's networking is exposed to the host machine's network stack. This means that the container can communicate with the host and other containers on the same network.\n",
       "2. Container mode: In this mode, the container has its own networking stack, isolated from the host machine's network stack. This means that the container can only communicate with other containers in the same network, not with the host machine or other containers in different networks.\n",
       "\n",
       "I hope this helps! Let me know if you have any further questions."
      ],
      "text/plain": [
       "<IPython.core.display.Markdown object>"
      ]
     },
     "metadata": {},
     "output_type": "display_data"
    }
   ],
   "source": [
    "chain_retriever = ({\n",
    "    \"context\": itemgetter(\"question\") | retriever,\n",
    "    \"question\": itemgetter(\"question\")\n",
    "} | chain)\n",
    "\n",
    "resp = chain_retriever.invoke({\"question\": \"How many types of networking possible in the docker?\"})\n",
    "\n",
    "display(Markdown(resp))"
   ]
  },
  {
   "cell_type": "code",
   "execution_count": null,
   "id": "cc56936f-74e4-45b2-a95c-e5469f36e1d8",
   "metadata": {},
   "outputs": [],
   "source": []
  }
 ],
 "metadata": {
  "kernelspec": {
   "display_name": "Python 3 (ipykernel)",
   "language": "python",
   "name": "python3"
  },
  "language_info": {
   "codemirror_mode": {
    "name": "ipython",
    "version": 3
   },
   "file_extension": ".py",
   "mimetype": "text/x-python",
   "name": "python",
   "nbconvert_exporter": "python",
   "pygments_lexer": "ipython3",
   "version": "3.10.2"
  }
 },
 "nbformat": 4,
 "nbformat_minor": 5
}
